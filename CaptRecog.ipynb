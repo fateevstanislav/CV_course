{
 "cells": [
  {
   "cell_type": "code",
   "execution_count": 19,
   "metadata": {
    "collapsed": false
   },
   "outputs": [],
   "source": [
    "import cv2\n",
    "from PIL import Image, ImageDraw\n",
    "%matplotlib inline\n",
    "from matplotlib import pyplot as plt\n",
    "import numpy as np\n",
    "import os\n",
    "import pickle\n",
    "import random\n",
    "import tensorflow as tf"
   ]
  },
  {
   "cell_type": "code",
   "execution_count": 86,
   "metadata": {
    "collapsed": true
   },
   "outputs": [],
   "source": [
    "dir_examples = 'proj1/examples/'\n",
    "directory = 'proj1/images/'\n",
    "def get_images_in_dir(directory='./'):\n",
    "    files = os.listdir(directory)\n",
    "    images = [directory+f for f in files]\n",
    "    return images\n",
    "fnames = get_images_in_dir(directory)"
   ]
  },
  {
   "cell_type": "code",
   "execution_count": 87,
   "metadata": {
    "collapsed": true
   },
   "outputs": [],
   "source": [
    "fig_size = [8,8]\n",
    "plt.rcParams[\"figure.figsize\"] = fig_size"
   ]
  },
  {
   "cell_type": "code",
   "execution_count": 89,
   "metadata": {
    "collapsed": false
   },
   "outputs": [
    {
     "data": {
      "text/plain": [
       "<matplotlib.image.AxesImage at 0x177530f0>"
      ]
     },
     "execution_count": 89,
     "metadata": {},
     "output_type": "execute_result"
    },
    {
     "data": {
      "image/png": "[encoded data removed]",
      "text/plain": [
       "<matplotlib.figure.Figure at 0x16fe1d68>"
      ]
     },
     "metadata": {},
     "output_type": "display_data"
    }
   ],
   "source": [
    "# img = Image.open(\"captcha.bmp\")\n",
    "img = cv2.imread(fnames[0])\n",
    "plt.imshow(img)"
   ]
  },
  {
   "cell_type": "code",
   "execution_count": 6,
   "metadata": {
    "collapsed": true
   },
   "outputs": [],
   "source": [
    "def delete_noise(img):\n",
    "    gray = cv2.cvtColor(img,cv2.COLOR_BGR2GRAY)\n",
    "    ret, thresh = cv2.threshold(gray,0,255,cv2.THRESH_BINARY_INV+cv2.THRESH_OTSU)    \n",
    "    median = cv2.medianBlur(thresh,3)\n",
    "    img = cv2.cvtColor(median,cv2.COLOR_GRAY2BGR)\n",
    "    kernel = np.ones((2,2),np.uint8)\n",
    "    img = cv2.erode(img,kernel,iterations = 1)\n",
    "    img = cv2.dilate(img,kernel,iterations = 1)\n",
    "    return img"
   ]
  },
  {
   "cell_type": "code",
   "execution_count": 7,
   "metadata": {
    "collapsed": true
   },
   "outputs": [],
   "source": [
    "def count_white_pixels(img):\n",
    "#     charcpy = np.empty_like(img)\n",
    "#     np.copyto(charcpy,img)\n",
    "    height, width, ch = img.shape\n",
    "    # count total white pixels (required for clustering)\n",
    "    colwise_wlist = []\n",
    "    totalwhite = 0\n",
    "    \n",
    "    for col in range(width):\n",
    "        wctr = 0\n",
    "        bctr = 0\n",
    "        for row in range(height):\n",
    "            if np.array_equal(img[row][col] , np.array([255,255,255])):\n",
    "                wctr += 1\n",
    "                totalwhite += 1\n",
    "        colwise_wlist.append(wctr)\n",
    "    return colwise_wlist, totalwhite"
   ]
  },
  {
   "cell_type": "code",
   "execution_count": 8,
   "metadata": {
    "collapsed": true
   },
   "outputs": [],
   "source": [
    "def get_white_pixels(img, totalwhite):\n",
    "    height, width, ch = img.shape\n",
    "    a = np.zeros(shape=(totalwhite,2), dtype=np.uint32)\n",
    "    ctr = 0\n",
    "    for row in range(height):\n",
    "        for col in range(width):\n",
    "            if np.array_equal(img[row][col] , np.array([255,255,255])):\n",
    "                a[ctr] = np.array([row,col])\n",
    "                ctr += 1\n",
    "    return a"
   ]
  },
  {
   "cell_type": "code",
   "execution_count": 9,
   "metadata": {
    "collapsed": true
   },
   "outputs": [],
   "source": [
    "def apply_K_means(img, a):\n",
    "    z = np.float32(a)\n",
    "    criteria = (cv2.TERM_CRITERIA_EPS + cv2.TERM_CRITERIA_MAX_ITER, 10, 1.0)\n",
    "    flags = cv2.KMEANS_RANDOM_CENTERS\n",
    "    K = 5 # clusters count\n",
    "    compactness,labels,centers = cv2.kmeans(z,K,None,criteria,10,flags)\n",
    "    return compactness,labels,centers"
   ]
  },
  {
   "cell_type": "code",
   "execution_count": 10,
   "metadata": {
    "collapsed": true
   },
   "outputs": [],
   "source": [
    "def cluster(img):\n",
    "    img = delete_noise(img)\n",
    "    charcpy = np.empty_like(img)\n",
    "    np.copyto(charcpy,img)\n",
    "    \n",
    "    _, totalwhite = count_white_pixels(img)\n",
    "    a = get_white_pixels(img, totalwhite)\n",
    "    compactness,labels,centers = apply_K_means(img, a)\n",
    "    \n",
    "    height, width, ch = img.shape\n",
    "    charHeight, charWidth = height,35\n",
    "    char_imgs = []\n",
    "    centers = sorted(centers,key=lambda x: x[1])\n",
    "    for c in range(len(centers)):\n",
    "        Crow,Ccol = centers[c][0],int(centers[c][1])\n",
    "        x1 = (Ccol-int(charWidth/2)) if ((Ccol-int(charWidth/2)) > 0) else 0\n",
    "        x2 = (Ccol+int(charWidth/2)) if ((Ccol+int(charWidth/2)) < width) else width\n",
    "        char_imgs.append(charcpy[0:height , x1:x2])\n",
    "    return char_imgs"
   ]
  },
  {
   "cell_type": "code",
   "execution_count": 11,
   "metadata": {
    "collapsed": false
   },
   "outputs": [],
   "source": [
    "def highlight_chars(img):\n",
    "    img = delete_noise(img)\n",
    "    _, totalwhite = count_white_pixels(img)\n",
    "    a = get_white_pixels(img, totalwhite)\n",
    "    compactness,labels,centers = apply_K_means(img, a)\n",
    "    \n",
    "    height, width, ch = img.shape\n",
    "    # define colors to be used\n",
    "    colors = [np.array([255,0,0]),np.array([0,255,0]),np.array([0,0,255]),np.array([255,255,0]),np.array([255,0,255])]\n",
    "    imcpy = np.empty_like(img)\n",
    "    np.copyto(imcpy,img)\n",
    "    # draw colors according to cluster labels\n",
    "    for i in range(len(a)):\n",
    "        row,col = a[i][0],a[i][1]\n",
    "        thisColor = colors[labels[i][0]]\n",
    "        imcpy[row][col] = thisColor\n",
    "\n",
    "    for c in range(len(centers)):\n",
    "        Crow,Ccol = centers[c][0],int(centers[c][1])\n",
    "        for row in range(height):\n",
    "            imcpy[row][Ccol] = np.array([255,255,255])\n",
    "    return imcpy"
   ]
  },
  {
   "cell_type": "code",
   "execution_count": 12,
   "metadata": {
    "collapsed": false
   },
   "outputs": [],
   "source": [
    "def print_5_images(imgs):\n",
    "    for i in range(1,len(imgs)+1):\n",
    "        plt.subplot(1,5,i)\n",
    "        plt.imshow(imgs[i-1])\n",
    "    plt.show()"
   ]
  },
  {
   "cell_type": "code",
   "execution_count": 83,
   "metadata": {
    "collapsed": false
   },
   "outputs": [
    {
     "ename": "error",
     "evalue": "..\\..\\..\\modules\\imgproc\\src\\color.cpp:7456: error: (-215) scn == 3 || scn == 4 in function cv::ipp_cvtColor\n",
     "output_type": "error",
     "traceback": [
      "\u001b[1;31m---------------------------------------------------------------------------\u001b[0m",
      "\u001b[1;31merror\u001b[0m                                     Traceback (most recent call last)",
      "\u001b[1;32m<ipython-input-83-a7eb6cd41ee5>\u001b[0m in \u001b[0;36m<module>\u001b[1;34m()\u001b[0m\n\u001b[1;32m----> 1\u001b[1;33m \u001b[0mimgs\u001b[0m \u001b[1;33m=\u001b[0m \u001b[0mcluster\u001b[0m\u001b[1;33m(\u001b[0m\u001b[0mimg\u001b[0m\u001b[1;33m)\u001b[0m\u001b[1;33m\u001b[0m\u001b[0m\n\u001b[0m",
      "\u001b[1;32m<ipython-input-10-f9c8efe23381>\u001b[0m in \u001b[0;36mcluster\u001b[1;34m(img)\u001b[0m\n\u001b[0;32m      1\u001b[0m \u001b[1;32mdef\u001b[0m \u001b[0mcluster\u001b[0m\u001b[1;33m(\u001b[0m\u001b[0mimg\u001b[0m\u001b[1;33m)\u001b[0m\u001b[1;33m:\u001b[0m\u001b[1;33m\u001b[0m\u001b[0m\n\u001b[1;32m----> 2\u001b[1;33m     \u001b[0mimg\u001b[0m \u001b[1;33m=\u001b[0m \u001b[0mdelete_noise\u001b[0m\u001b[1;33m(\u001b[0m\u001b[0mimg\u001b[0m\u001b[1;33m)\u001b[0m\u001b[1;33m\u001b[0m\u001b[0m\n\u001b[0m\u001b[0;32m      3\u001b[0m     \u001b[0mcharcpy\u001b[0m \u001b[1;33m=\u001b[0m \u001b[0mnp\u001b[0m\u001b[1;33m.\u001b[0m\u001b[0mempty_like\u001b[0m\u001b[1;33m(\u001b[0m\u001b[0mimg\u001b[0m\u001b[1;33m)\u001b[0m\u001b[1;33m\u001b[0m\u001b[0m\n\u001b[0;32m      4\u001b[0m     \u001b[0mnp\u001b[0m\u001b[1;33m.\u001b[0m\u001b[0mcopyto\u001b[0m\u001b[1;33m(\u001b[0m\u001b[0mcharcpy\u001b[0m\u001b[1;33m,\u001b[0m\u001b[0mimg\u001b[0m\u001b[1;33m)\u001b[0m\u001b[1;33m\u001b[0m\u001b[0m\n\u001b[0;32m      5\u001b[0m \u001b[1;33m\u001b[0m\u001b[0m\n",
      "\u001b[1;32m<ipython-input-6-e6f3b2d325ee>\u001b[0m in \u001b[0;36mdelete_noise\u001b[1;34m(img)\u001b[0m\n\u001b[0;32m      1\u001b[0m \u001b[1;32mdef\u001b[0m \u001b[0mdelete_noise\u001b[0m\u001b[1;33m(\u001b[0m\u001b[0mimg\u001b[0m\u001b[1;33m)\u001b[0m\u001b[1;33m:\u001b[0m\u001b[1;33m\u001b[0m\u001b[0m\n\u001b[1;32m----> 2\u001b[1;33m     \u001b[0mgray\u001b[0m \u001b[1;33m=\u001b[0m \u001b[0mcv2\u001b[0m\u001b[1;33m.\u001b[0m\u001b[0mcvtColor\u001b[0m\u001b[1;33m(\u001b[0m\u001b[0mimg\u001b[0m\u001b[1;33m,\u001b[0m\u001b[0mcv2\u001b[0m\u001b[1;33m.\u001b[0m\u001b[0mCOLOR_BGR2GRAY\u001b[0m\u001b[1;33m)\u001b[0m\u001b[1;33m\u001b[0m\u001b[0m\n\u001b[0m\u001b[0;32m      3\u001b[0m     \u001b[0mret\u001b[0m\u001b[1;33m,\u001b[0m \u001b[0mthresh\u001b[0m \u001b[1;33m=\u001b[0m \u001b[0mcv2\u001b[0m\u001b[1;33m.\u001b[0m\u001b[0mthreshold\u001b[0m\u001b[1;33m(\u001b[0m\u001b[0mgray\u001b[0m\u001b[1;33m,\u001b[0m\u001b[1;36m0\u001b[0m\u001b[1;33m,\u001b[0m\u001b[1;36m255\u001b[0m\u001b[1;33m,\u001b[0m\u001b[0mcv2\u001b[0m\u001b[1;33m.\u001b[0m\u001b[0mTHRESH_BINARY_INV\u001b[0m\u001b[1;33m+\u001b[0m\u001b[0mcv2\u001b[0m\u001b[1;33m.\u001b[0m\u001b[0mTHRESH_OTSU\u001b[0m\u001b[1;33m)\u001b[0m\u001b[1;33m\u001b[0m\u001b[0m\n\u001b[0;32m      4\u001b[0m     \u001b[0mmedian\u001b[0m \u001b[1;33m=\u001b[0m \u001b[0mcv2\u001b[0m\u001b[1;33m.\u001b[0m\u001b[0mmedianBlur\u001b[0m\u001b[1;33m(\u001b[0m\u001b[0mthresh\u001b[0m\u001b[1;33m,\u001b[0m\u001b[1;36m3\u001b[0m\u001b[1;33m)\u001b[0m\u001b[1;33m\u001b[0m\u001b[0m\n\u001b[0;32m      5\u001b[0m     \u001b[0mimg\u001b[0m \u001b[1;33m=\u001b[0m \u001b[0mcv2\u001b[0m\u001b[1;33m.\u001b[0m\u001b[0mcvtColor\u001b[0m\u001b[1;33m(\u001b[0m\u001b[0mmedian\u001b[0m\u001b[1;33m,\u001b[0m\u001b[0mcv2\u001b[0m\u001b[1;33m.\u001b[0m\u001b[0mCOLOR_GRAY2BGR\u001b[0m\u001b[1;33m)\u001b[0m\u001b[1;33m\u001b[0m\u001b[0m\n",
      "\u001b[1;31merror\u001b[0m: ..\\..\\..\\modules\\imgproc\\src\\color.cpp:7456: error: (-215) scn == 3 || scn == 4 in function cv::ipp_cvtColor\n"
     ]
    }
   ],
   "source": [
    "imgs = cluster(img)"
   ]
  },
  {
   "cell_type": "code",
   "execution_count": 14,
   "metadata": {
    "collapsed": false
   },
   "outputs": [
    {
     "data": {
      "image/png": "[encoded data removed]",
      "text/plain": [
       "<matplotlib.figure.Figure at 0x9f4e7f0>"
      ]
     },
     "metadata": {},
     "output_type": "display_data"
    }
   ],
   "source": [
    "print_5_images(imgs)"
   ]
  },
  {
   "cell_type": "code",
   "execution_count": 16,
   "metadata": {
    "collapsed": true
   },
   "outputs": [],
   "source": [
    "rand_name = lambda l, n: l+''.join([random.choice(string.ascii_letters + string.digits) for n in range(n)])\n",
    "namesize = 5"
   ]
  },
  {
   "cell_type": "code",
   "execution_count": 17,
   "metadata": {
    "collapsed": false
   },
   "outputs": [
    {
     "data": {
      "text/plain": [
       "'proj1/images/2324N.bmp'"
      ]
     },
     "execution_count": 17,
     "metadata": {},
     "output_type": "execute_result"
    }
   ],
   "source": [
    "fnames[0]"
   ]
  },
  {
   "cell_type": "code",
   "execution_count": 75,
   "metadata": {
    "collapsed": false
   },
   "outputs": [],
   "source": [
    "# for file in fnames[:1]:\n",
    "#     img = cv2.imread(file)\n",
    "#     ch_imgs = cluster(img)\n",
    "#     char_names = list(file.split('.')[0].split('/')[-1])\n",
    "#     for im, name in zip(ch_imgs, char_names):\n",
    "#         dname = dir_examples+name+'/'\n",
    "# #         if not os.path.exists(dname):\n",
    "# #             os.makedirs(dname)\n",
    "#         fname = dname+rand_name(name, namesize)+'.bmp'\n",
    "# #         while os.path.exists(fname):\n",
    "# #             fname = dir_examples+rand_name(name, namesize)+'.bmp'\n",
    "#         cv2.imwrite(fname,im)"
   ]
  },
  {
   "cell_type": "code",
   "execution_count": 20,
   "metadata": {
    "collapsed": false
   },
   "outputs": [
    {
     "data": {
      "text/plain": [
       "(50, 34, 3)"
      ]
     },
     "execution_count": 20,
     "metadata": {},
     "output_type": "execute_result"
    }
   ],
   "source": [
    "imgs[4].shape"
   ]
  },
  {
   "cell_type": "code",
   "execution_count": 21,
   "metadata": {
    "collapsed": true
   },
   "outputs": [],
   "source": [
    "h, w = 50, 34"
   ]
  },
  {
   "cell_type": "code",
   "execution_count": 22,
   "metadata": {
    "collapsed": false
   },
   "outputs": [
    {
     "data": {
      "text/plain": [
       "1700"
      ]
     },
     "execution_count": 22,
     "metadata": {},
     "output_type": "execute_result"
    }
   ],
   "source": [
    "sz = w * h\n",
    "sz"
   ]
  },
  {
   "cell_type": "code",
   "execution_count": 23,
   "metadata": {
    "collapsed": false
   },
   "outputs": [],
   "source": [
    "labels = os.listdir(dir_examples)"
   ]
  },
  {
   "cell_type": "code",
   "execution_count": 28,
   "metadata": {
    "collapsed": false
   },
   "outputs": [],
   "source": [
    "data = {key:[] for key in labels}"
   ]
  },
  {
   "cell_type": "code",
   "execution_count": 29,
   "metadata": {
    "collapsed": false
   },
   "outputs": [],
   "source": [
    "# for k in list(data.keys()):\n",
    "#     dir_name = dir_examples+k\n",
    "#     files = [dir_name+'/'+f for f in os.listdir(dir_examples+k)]\n",
    "#     for f in files:\n",
    "#         img = cv2.imread(f)\n",
    "#         img = cv2.cvtColor(img,cv2.COLOR_BGR2GRAY)\n",
    "#         _, img = cv2.threshold(img,0,1,cv2.THRESH_BINARY)\n",
    "#         if img.shape[1] < 34:\n",
    "#             img = np.append(img,np.zeros((1,50)))\n",
    "#             while img.shape[0] < sz:\n",
    "#                 img = np.append(img,np.zeros((1,50)))\n",
    "#         img = img.reshape(1,w*h)\n",
    "#         data[k].append(img)"
   ]
  },
  {
   "cell_type": "code",
   "execution_count": 77,
   "metadata": {
    "collapsed": true
   },
   "outputs": [],
   "source": [
    "pickle_file = 'data2.dat'"
   ]
  },
  {
   "cell_type": "code",
   "execution_count": 31,
   "metadata": {
    "collapsed": false
   },
   "outputs": [],
   "source": [
    "# with open(pickle_file, 'wb') as f:\n",
    "#     pickle.dump(data, f)"
   ]
  },
  {
   "cell_type": "code",
   "execution_count": 32,
   "metadata": {
    "collapsed": false
   },
   "outputs": [],
   "source": [
    "with open(pickle_file, \"rb\") as f:\n",
    "        training_data = pickle.load(f)"
   ]
  },
  {
   "cell_type": "code",
   "execution_count": 33,
   "metadata": {
    "collapsed": true
   },
   "outputs": [],
   "source": [
    "chars = list(training_data.keys())\n",
    "chars.sort()"
   ]
  },
  {
   "cell_type": "code",
   "execution_count": 34,
   "metadata": {
    "collapsed": false
   },
   "outputs": [],
   "source": [
    "labels = {}\n",
    "i = 0\n",
    "for c in chars:\n",
    "    labels[c] = i\n",
    "    i += 1\n",
    "labels_count = i"
   ]
  },
  {
   "cell_type": "code",
   "execution_count": 35,
   "metadata": {
    "collapsed": true
   },
   "outputs": [],
   "source": [
    "inputData_x = []\n",
    "inputData_y = []\n",
    "for c in training_data:\n",
    "    for i in range(len(training_data[c])):\n",
    "        inputData_x.append(training_data[c][i][0])\n",
    "        label_temp = [0]*labels_count\n",
    "        label_temp[labels[c]] = 1\n",
    "        inputData_y.append(label_temp)"
   ]
  },
  {
   "cell_type": "code",
   "execution_count": 36,
   "metadata": {
    "collapsed": false
   },
   "outputs": [
    {
     "name": "stdout",
     "output_type": "stream",
     "text": [
      "total :  7455 7455\n"
     ]
    }
   ],
   "source": [
    "inputData_x = np.array(inputData_x)\n",
    "inputData_y = np.array(inputData_y)\n",
    "print(\"total : \",len(inputData_x),len(inputData_y))"
   ]
  },
  {
   "cell_type": "code",
   "execution_count": 38,
   "metadata": {
    "collapsed": true
   },
   "outputs": [],
   "source": [
    "# shuffle the data\n",
    "inputData = list(zip(inputData_x,inputData_y))\n",
    "random.shuffle(inputData)\n",
    "inputData_x,inputData_y = zip(*inputData)"
   ]
  },
  {
   "cell_type": "code",
   "execution_count": 39,
   "metadata": {
    "collapsed": false
   },
   "outputs": [
    {
     "name": "stdout",
     "output_type": "stream",
     "text": [
      "training :  5964 5964\n",
      "testing  :  1491 1491\n"
     ]
    }
   ],
   "source": [
    "# separate training and testing data\n",
    "separateRatio = 0.20\n",
    "testing_data_len = int(len(inputData_x) * separateRatio)\n",
    "trainingData_x = inputData_x[:len(inputData_x)-testing_data_len]\n",
    "trainingData_y = inputData_y[:len(inputData_y)-testing_data_len]\n",
    "\n",
    "testingData_x = np.array(inputData_x[len(inputData_x)-testing_data_len:])\n",
    "testingData_y = np.array(inputData_y[len(inputData_y)-testing_data_len:])\n",
    "\n",
    "print(\"training : \",len(trainingData_x),len(trainingData_y))\n",
    "print(\"testing  : \",len(testingData_x),len(testingData_y))"
   ]
  },
  {
   "cell_type": "code",
   "execution_count": 188,
   "metadata": {
    "collapsed": false
   },
   "outputs": [],
   "source": [
    "# model\n",
    "# hidden_layer_sz = 500\n",
    "x = tf.placeholder(tf.float32, [None,sz])\n",
    "\n",
    "# W1 = tf.Variable(tf.truncated_normal((sz,hidden_layer_sz), stddev=0.1))\n",
    "# b1 = tf.Variable(tf.zeros([hidden_layer_sz]))\n",
    "# W2 = tf.Variable(tf.truncated_normal((hidden_layer_sz,labels_count), stddev=0.1))\n",
    "# b2 = tf.Variable(tf.zeros([labels_count]))\n",
    "\n",
    "# hidden = tf.nn.relu(tf.matmul(x, W1) + b1)\n",
    "# hidden_do = tf.nn.dropout(hidden, 0.8)\n",
    "# y = tf.nn.relu(tf.matmul(hidden_do, W2) + b2)\n",
    "\n",
    "W = tf.Variable(tf.truncated_normal((sz,labels_count), stddev=0.01))\n",
    "# W = tf.nn.dropout(W, 0.5)\n",
    "# W = tf.Variable(tf.zeros([sz,labels_count]))\n",
    "b = tf.Variable(tf.zeros([labels_count]))\n",
    "# b = tf.Variable(tf.constant(0.1, shape=[labels_count]))\n",
    "y = tf.nn.softmax(tf.matmul(x, W) + b)\n",
    "\n",
    "y_right = tf.placeholder(tf.float32, [None, labels_count])\n",
    "cost = tf.reduce_mean(-tf.reduce_sum(y_right * tf.log(y), reduction_indices=[1]))\n",
    "# cost = tf.reduce_mean(tf.reduce_sum(tf.square(y - y_right)))\n",
    "\n",
    "# training\n",
    "train_step = tf.train.GradientDescentOptimizer(0.5).minimize(cost)\n",
    "# train_step = tf.train.AdamOptimizer(0.5).minimize(cost)\n",
    "# train_step = tf.train.RMSPropOptimizer(0.5).minimize(cost)\n",
    "\n",
    "init = tf.global_variables_initializer()\n",
    "saver = tf.train.Saver()\n",
    "# testing\n",
    "correct_prediction = tf.equal(tf.argmax(y,1), tf.argmax(y_right,1))\n",
    "accuracy = tf.reduce_mean(tf.cast(correct_prediction, tf.float32))"
   ]
  },
  {
   "cell_type": "code",
   "execution_count": 189,
   "metadata": {
    "collapsed": true
   },
   "outputs": [],
   "source": [
    "EPOCHS = 10000"
   ]
  },
  {
   "cell_type": "code",
   "execution_count": 190,
   "metadata": {
    "collapsed": false
   },
   "outputs": [
    {
     "name": "stdout",
     "output_type": "stream",
     "text": [
      "Epoch:  0\n",
      "Accuracy : 0.144199\n",
      "Epoch:  1000\n",
      "Accuracy : 0.692824\n",
      "Epoch:  2000\n",
      "Accuracy : 0.704896\n",
      "Epoch:  3000\n",
      "Accuracy : 0.707579\n",
      "Epoch:  4000\n",
      "Accuracy : 0.713615\n",
      "Epoch:  5000\n",
      "Accuracy : 0.711603\n",
      "Epoch:  6000\n",
      "Accuracy : 0.70825\n",
      "Epoch:  7000\n",
      "Accuracy : 0.711603\n",
      "Epoch:  8000\n",
      "Accuracy : 0.712944\n",
      "Epoch:  9000\n",
      "Accuracy : 0.711603\n",
      "Learned\n",
      "Accuracy : 0.712274\n"
     ]
    }
   ],
   "source": [
    "sess = tf.Session()\n",
    "if True:\n",
    "    sess.run(init)\n",
    "    for i in range(EPOCHS):\n",
    "        tr_data = list(zip(trainingData_x,trainingData_y))\n",
    "        random.shuffle(tr_data)\n",
    "        trainingData_x,trainingData_y = zip(*tr_data)\n",
    "        \n",
    "        batch_indices = random.sample(range(0, len(trainingData_x)),100)\n",
    "        batch_x = []\n",
    "        batch_y = []\n",
    "        for r in batch_indices:\n",
    "            batch_x.append(trainingData_x[r])\n",
    "            batch_y.append(trainingData_y[r])\n",
    "        batch_x = np.array(batch_x)\n",
    "        batch_y = np.array(batch_y)\n",
    "        sess.run(train_step, feed_dict={x: batch_x, y_right: batch_y})\n",
    "        if i % 1000 == 0:\n",
    "            print('Epoch: ', i)\n",
    "            print(\"Accuracy :\",sess.run(accuracy, feed_dict={x: testingData_x, y_right: testingData_y}))\n",
    "    print('Learned')\n",
    "    print(\"Accuracy :\",sess.run(accuracy, feed_dict={x: testingData_x, y_right: testingData_y}))"
   ]
  },
  {
   "cell_type": "code",
   "execution_count": 94,
   "metadata": {
    "collapsed": true
   },
   "outputs": [],
   "source": [
    "def model(x_in,Wts,bs):\n",
    "    yop = tf.nn.softmax(tf.matmul(x_in, Wts) + b)\n",
    "    return yop"
   ]
  },
  {
   "cell_type": "code",
   "execution_count": 194,
   "metadata": {
    "collapsed": false
   },
   "outputs": [
    {
     "name": "stdout",
     "output_type": "stream",
     "text": [
      "J 2\n"
     ]
    }
   ],
   "source": [
    "k = 0\n",
    "test_x = np.asarray([testingData_x[k]] ,dtype=np.float32)\n",
    "predict_op = model(test_x,W,b)\n",
    "op = sess.run(predict_op, feed_dict={x: test_x})\n",
    "mmax = op[0][0]\n",
    "maxi = -1\n",
    "maxi = op.argmax()\n",
    "# for i in range(labels_count):\n",
    "#     if op[0][i] > mmax:\n",
    "#         mmax = op[0][i]\n",
    "#         maxi = i\n",
    "print(chars[maxi], chars[testingData_y[k].argmax()])"
   ]
  },
  {
   "cell_type": "code",
   "execution_count": 192,
   "metadata": {
    "collapsed": false
   },
   "outputs": [
    {
     "data": {
      "image/png": "[encoded data removed]",
      "text/plain": [
       "<matplotlib.figure.Figure at 0x16daa438>"
      ]
     },
     "metadata": {},
     "output_type": "display_data"
    }
   ],
   "source": [
    "fig_size = [20,20]\n",
    "plt.rcParams[\"figure.figsize\"] = fig_size\n",
    "kks = [30, 420, 100, 900, 101]\n",
    "ind = 1\n",
    "for kk in kks:\n",
    "    ti = cv2.imread(fnames[kk])\n",
    "    tis = cluster(ti)\n",
    "    right_answer = list(fnames[kk].split('.')[0].split('/')[-1])\n",
    "    ress = []\n",
    "    predict_op = tf.nn.softmax(tf.matmul(x, W) + b)\n",
    "    for ii in tis:\n",
    "        i = cv2.cvtColor(ii,cv2.COLOR_BGR2GRAY)\n",
    "        _, i = cv2.threshold(i,0,1,cv2.THRESH_BINARY)\n",
    "        if i.shape[1] < 34:\n",
    "            i = np.append(i,np.zeros((1,50)))\n",
    "            while i.shape[0] < sz:\n",
    "                i = np.append(i,np.zeros((1,50)))\n",
    "        i = i.reshape(1,w*h)\n",
    "    \n",
    "        r = sess.run(predict_op, feed_dict={x: i})\n",
    "#         print(r.argmax())\n",
    "        ress.append(chars[r.argmax()])\n",
    "\n",
    "    plt.subplot(1,5,ind)\n",
    "    plt.title(''.join(ress))\n",
    "    plt.imshow(ti)\n",
    "    ind += 1\n",
    "#     print(ress)\n",
    "plt.show()"
   ]
  },
  {
   "cell_type": "code",
   "execution_count": null,
   "metadata": {
    "collapsed": true
   },
   "outputs": [],
   "source": []
  },
  {
   "cell_type": "code",
   "execution_count": null,
   "metadata": {
    "collapsed": true
   },
   "outputs": [],
   "source": []
  },
  {
   "cell_type": "code",
   "execution_count": 193,
   "metadata": {
    "collapsed": false
   },
   "outputs": [
    {
     "data": {
      "text/plain": [
       "'proj1/net2.model'"
      ]
     },
     "execution_count": 193,
     "metadata": {},
     "output_type": "execute_result"
    }
   ],
   "source": [
    "saver_name = 'proj1/net2.model'\n",
    "saver.save(sess, saver_name)"
   ]
  },
  {
   "cell_type": "code",
   "execution_count": 187,
   "metadata": {
    "collapsed": false
   },
   "outputs": [],
   "source": [
    "sess.close()"
   ]
  },
  {
   "cell_type": "code",
   "execution_count": null,
   "metadata": {
    "collapsed": true
   },
   "outputs": [],
   "source": []
  },
  {
   "cell_type": "code",
   "execution_count": null,
   "metadata": {
    "collapsed": true
   },
   "outputs": [],
   "source": []
  },
  {
   "cell_type": "code",
   "execution_count": null,
   "metadata": {
    "collapsed": true
   },
   "outputs": [],
   "source": [
    "saver.restore(sess, saver_name)"
   ]
  }
 ],
 "metadata": {
  "anaconda-cloud": {},
  "kernelspec": {
   "display_name": "Python [Root]",
   "language": "python",
   "name": "Python [Root]"
  },
  "language_info": {
   "codemirror_mode": {
    "name": "ipython",
    "version": 3
   },
   "file_extension": ".py",
   "mimetype": "text/x-python",
   "name": "python",
   "nbconvert_exporter": "python",
   "pygments_lexer": "ipython3",
   "version": "3.5.2"
  }
 },
 "nbformat": 4,
 "nbformat_minor": 0
}
